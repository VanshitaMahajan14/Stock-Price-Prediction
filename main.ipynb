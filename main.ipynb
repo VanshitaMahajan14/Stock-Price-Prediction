import pandas as pd
import numpy as np
import matplotlib.pyplot as plt
import seaborn as sns
from datetime import datetime

#importing data retrieval libraries
from pandas_datareader.data import DataReader
import yfinance as yf
from pandas_datareader import data as pdr
yf.pdr_override()
